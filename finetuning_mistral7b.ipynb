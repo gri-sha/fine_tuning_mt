{
 "cells": [
  {
   "cell_type": "code",
   "execution_count": null,
   "id": "dc941371",
   "metadata": {
    "execution": {
     "iopub.execute_input": "2025-07-07T11:18:03.846539Z",
     "iopub.status.busy": "2025-07-07T11:18:03.846419Z",
     "iopub.status.idle": "2025-07-07T11:18:05.465085Z",
     "shell.execute_reply": "2025-07-07T11:18:05.464779Z"
    }
   },
   "outputs": [],
   "source": [
    "import os\n",
    "import json\n",
    "import random\n",
    "import torch\n",
    "from util import generate_simple_prompts, initialize_df, split_dataset, _config\n",
    "from datasets import Dataset\n",
    "from transformers import set_seed, AutoTokenizer, AutoModelForCausalLM, BitsAndBytesConfig\n",
    "from peft import LoraConfig, get_peft_model, prepare_model_for_kbit_training\n",
    "from trl import SFTTrainer, SFTConfig\n",
    "from pprint import pprint"
   ]
  },
  {
   "cell_type": "code",
   "execution_count": null,
   "id": "cd4defa5",
   "metadata": {},
   "outputs": [],
   "source": [
    "!python3 login.py"
   ]
  },
  {
   "cell_type": "code",
   "execution_count": null,
   "id": "3f67edb3",
   "metadata": {},
   "outputs": [],
   "source": [
    "seed = 1212\n",
    "\n",
    "# dataset splits\n",
    "train_split = 0.85\n",
    "test_split = 0.1\n",
    "validation_split = 0.05\n",
    "\n",
    "# directories\n",
    "output_dir = \"./finetuning_mistral7b_v1\"\n",
    "cache_dir = os.path.expanduser(\"~/.cache/huggingface/\")\n",
    "logs_path = os.path.join(output_dir, \"logs.json\")\n",
    "\n",
    "# training\n",
    "model_name = \"mistralai/Mistral-7B-v0.1\"\n",
    "epochs = 1\n",
    "learning_rate=2e-3\n",
    "batch_size = 32\n",
    "max_seq_length = 512\n",
    "logging_steps=20"
   ]
  },
  {
   "cell_type": "code",
   "execution_count": null,
   "id": "ecedba69",
   "metadata": {},
   "outputs": [],
   "source": [
    "print(\"Dataset configuration :\")\n",
    "pprint(_config)"
   ]
  },
  {
   "cell_type": "code",
   "execution_count": null,
   "id": "b4fb61ac",
   "metadata": {
    "execution": {
     "iopub.execute_input": "2025-07-07T11:18:05.466461Z",
     "iopub.status.busy": "2025-07-07T11:18:05.466336Z",
     "iopub.status.idle": "2025-07-07T11:18:05.478021Z",
     "shell.execute_reply": "2025-07-07T11:18:05.477766Z"
    }
   },
   "outputs": [],
   "source": [
    "set_seed(seed)"
   ]
  },
  {
   "cell_type": "code",
   "execution_count": null,
   "id": "632ffe9c",
   "metadata": {},
   "outputs": [],
   "source": [
    "df = initialize_df()"
   ]
  },
  {
   "cell_type": "code",
   "execution_count": null,
   "id": "f76f800d",
   "metadata": {},
   "outputs": [],
   "source": [
    "prompts = generate_simple_prompts(df, shots=0) + generate_simple_prompts(df, shots=1, fuzzy=True)\n",
    "random.shuffle(prompts)"
   ]
  },
  {
   "cell_type": "code",
   "execution_count": null,
   "id": "0bd4674d",
   "metadata": {},
   "outputs": [],
   "source": [
    "print(type(prompts))\n",
    "print(prompts[0], \"\\n\")\n",
    "print(prompts[-1])"
   ]
  },
  {
   "cell_type": "code",
   "execution_count": null,
   "id": "a1a76df3",
   "metadata": {},
   "outputs": [],
   "source": [
    "dataset = Dataset.from_dict({\"text\": prompts})\n",
    "dataset = split_dataset(dataset, train=train_split, test=test_split, validation=validation_split)\n",
    "pprint(dataset)"
   ]
  },
  {
   "cell_type": "code",
   "execution_count": null,
   "id": "c22a23ac",
   "metadata": {},
   "outputs": [],
   "source": [
    "pprint(dataset['train'][4])"
   ]
  },
  {
   "cell_type": "code",
   "execution_count": null,
   "id": "908e8c53",
   "metadata": {},
   "outputs": [],
   "source": [
    "nf4_config = BitsAndBytesConfig(\n",
    "    load_in_4bit=True,\n",
    "    bnb_4bit_quant_type=\"nf4\",\n",
    "    bnb_4bit_use_double_quant=True,\n",
    "    bnb_4bit_compute_dtype=torch.bfloat16,\n",
    ")"
   ]
  },
  {
   "cell_type": "code",
   "execution_count": null,
   "id": "f6533cb9",
   "metadata": {},
   "outputs": [],
   "source": [
    "model = AutoModelForCausalLM.from_pretrained(\n",
    "    model_name,\n",
    "    device_map=\"auto\",\n",
    "    quantization_config=nf4_config,\n",
    "    use_cache=False,\n",
    "    cache_dir=cache_dir,\n",
    ")"
   ]
  },
  {
   "cell_type": "code",
   "execution_count": null,
   "id": "99929615",
   "metadata": {},
   "outputs": [],
   "source": [
    "tokenizer = AutoTokenizer.from_pretrained(\n",
    "    model_name,\n",
    "    cache_dir=cache_dir,\n",
    "    add_bos_token=True,\n",
    "    add_eos_token=False,\n",
    ")\n",
    "\n",
    "tokenizer.pad_token = tokenizer.eos_token\n",
    "tokenizer.padding_side = \"right\""
   ]
  },
  {
   "cell_type": "code",
   "execution_count": null,
   "id": "a97bc365",
   "metadata": {},
   "outputs": [],
   "source": [
    "peft_config = LoraConfig(\n",
    "    lora_alpha=16, lora_dropout=0.1, r=64, bias=\"none\", task_type=\"CAUSAL_LM\"\n",
    ")\n",
    "\n",
    "model = prepare_model_for_kbit_training(model)\n",
    "model = get_peft_model(model, peft_config)"
   ]
  },
  {
   "cell_type": "code",
   "execution_count": null,
   "id": "b63ace70",
   "metadata": {},
   "outputs": [],
   "source": [
    "assert torch.cuda.is_available(), \"CUDA is not available\"\n",
    "print(\"CUDA device:\", torch.cuda.get_device_name(0))\n",
    "print(\"Model device:\", next(model.parameters()).device)"
   ]
  },
  {
   "cell_type": "code",
   "execution_count": null,
   "id": "b1686156",
   "metadata": {},
   "outputs": [],
   "source": [
    "sft_config = SFTConfig(\n",
    "    output_dir=output_dir,\n",
    "    num_train_epochs=epochs,\n",
    "    per_device_train_batch_size=batch_size,\n",
    "    per_device_eval_batch_size=batch_size,\n",
    "    warmup_steps=0,\n",
    "    logging_steps=logging_steps,\n",
    "    do_train=True,\n",
    "    save_strategy=\"epoch\",\n",
    "    do_eval=True,\n",
    "    evaluation_strategy=\"epoch\",\n",
    "    learning_rate=learning_rate,\n",
    "    bf16=True,\n",
    "    lr_scheduler_type=\"constant\",\n",
    "    max_seq_length=max_seq_length,\n",
    "    packing=True,\n",
    "    dataset_text_field=\"text\",\n",
    ")"
   ]
  },
  {
   "cell_type": "code",
   "execution_count": null,
   "id": "01e76449",
   "metadata": {},
   "outputs": [],
   "source": [
    "trainer = SFTTrainer(\n",
    "    model=model,\n",
    "    peft_config=peft_config,\n",
    "    processing_class=tokenizer,\n",
    "    args=sft_config,\n",
    "    train_dataset=dataset[\"train\"],\n",
    "    eval_dataset=dataset[\"validation\"],\n",
    ")"
   ]
  },
  {
   "cell_type": "code",
   "execution_count": null,
   "id": "0cdabb95",
   "metadata": {},
   "outputs": [],
   "source": [
    "tokenizer.decode(trainer.train_dataset[\"input_ids\"][0])"
   ]
  },
  {
   "cell_type": "code",
   "execution_count": null,
   "id": "d8405be3",
   "metadata": {},
   "outputs": [],
   "source": [
    "trainer.train()"
   ]
  },
  {
   "cell_type": "code",
   "execution_count": null,
   "id": "e138e63e",
   "metadata": {},
   "outputs": [],
   "source": [
    "logs = trainer.state.log_history\n",
    "with open(logs_path, \"w\") as log:\n",
    "    log.write(json.dumps(logs, indent=2))"
   ]
  }
 ],
 "metadata": {
  "kernelspec": {
   "display_name": ".venv",
   "language": "python",
   "name": "python3"
  },
  "language_info": {
   "codemirror_mode": {
    "name": "ipython",
    "version": 3
   },
   "file_extension": ".py",
   "mimetype": "text/x-python",
   "name": "python",
   "nbconvert_exporter": "python",
   "pygments_lexer": "ipython3",
   "version": "3.9.6"
  }
 },
 "nbformat": 4,
 "nbformat_minor": 5
}

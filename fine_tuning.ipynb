{
 "cells": [
  {
   "cell_type": "code",
   "execution_count": 1,
   "id": "dc941371",
   "metadata": {},
   "outputs": [],
   "source": [
    "from util import initialize_dataset\n",
    "from pprint import pprint\n",
    "import time"
   ]
  },
  {
   "cell_type": "code",
   "execution_count": 2,
   "id": "c8d80398",
   "metadata": {},
   "outputs": [
    {
     "name": "stdout",
     "output_type": "stream",
     "text": [
      "No constructed dataset found. Reading sources...\n",
      "Book 1: 1645 lines read.\n",
      "Book 2: 2687 lines read.\n",
      "Book 3: 2157 lines read.\n",
      "Book 4: 1026 lines read.\n",
      "\n",
      "Total lines read: 7515\n",
      "Total lines written: 6812\n",
      "Calculating fuzzy-matches...\n",
      "20.22 s\n"
     ]
    }
   ],
   "source": [
    "start = time.time()\n",
    "df = initialize_dataset()\n",
    "end = time.time()\n",
    "print(f\"{end - start:.2f} s\")"
   ]
  },
  {
   "cell_type": "code",
   "execution_count": 8,
   "id": "44f5df04",
   "metadata": {},
   "outputs": [
    {
     "name": "stdout",
     "output_type": "stream",
     "text": [
      "('“Did they steal your wallet?” Andi asked, quickly climbing off the bed as a '\n",
      " 'plan started to form, one that if they were able to pull off fast enough, '\n",
      " 'should buy them more time.')\n",
      "\n",
      "[('“I’ll have your name added to the list,” he promised, making a mental note '\n",
      "  'to put her name on the list if she was still here at the end of the week.',\n",
      "  51),\n",
      " ('“Why are you kidnapping me?” Andi asked, blinking at the man that hadn’t '\n",
      "  'said much since Drew texted her to let her know that everything that she '\n",
      "  'owned had been destroyed.',\n",
      "  50),\n",
      " ('It didn’t matter what had changed his mind, she was happy. She wanted him '\n",
      "  'and that was all that mattered at the moment.',\n",
      "  50),\n",
      " ('“You mean the day that you highjacked my interview?” Andi asked, moaning '\n",
      "  'softly as he trailed his fingertips over her arms, tracing a path up to her '\n",
      "  'shoulders and down her sides.',\n",
      "  50),\n",
      " ('“What did they find?” Andi asked, biting back a disappointed sigh at the '\n",
      "  'realization that she’d have to wait to start on this until after they '\n",
      "  'figured out what was going on in Boston.',\n",
      "  50),\n",
      " ('“Then you should probably answer quickly,” he said, not really looking all '\n",
      "  'that concerned that she was about to create a memory that neither one of '\n",
      "  'them would ever forget.',\n",
      "  50),\n",
      " ('“Did I ever tell you why I took this job?” Devyn asked, placing his hand in '\n",
      "  'hers, correctly guessing that she needed the comforting move at the moment.',\n",
      "  50),\n",
      " ('“And my brother?” Andi asked, quickly crossing the room and taking his hand '\n",
      "  'as she climbed onto the bed and settled on his lap.',\n",
      "  49),\n",
      " ('“You can borrow my jacket?” Andi offered, sounding out of breath as he '\n",
      "  'stepped back just far enough so that he could pull her panties off the rest '\n",
      "  'of the way.',\n",
      "  49),\n",
      " ('“You quit for me?” Andi asked hollowly, hating that he thought that he had '\n",
      "  'to do that. She would have stepped back and let him go if it meant-',\n",
      "  49)]\n"
     ]
    }
   ],
   "source": [
    "pprint(df.loc[1234, \"en\"])\n",
    "print()\n",
    "pprint(df.loc[1234, \"match\"])"
   ]
  }
 ],
 "metadata": {
  "kernelspec": {
   "display_name": ".venv",
   "language": "python",
   "name": "python3"
  },
  "language_info": {
   "codemirror_mode": {
    "name": "ipython",
    "version": 3
   },
   "file_extension": ".py",
   "mimetype": "text/x-python",
   "name": "python",
   "nbconvert_exporter": "python",
   "pygments_lexer": "ipython3",
   "version": "3.9.6"
  }
 },
 "nbformat": 4,
 "nbformat_minor": 5
}

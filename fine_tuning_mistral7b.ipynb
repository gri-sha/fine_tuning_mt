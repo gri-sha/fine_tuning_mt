{
 "cells": [
  {
   "cell_type": "code",
   "execution_count": null,
   "id": "dc941371",
   "metadata": {
    "execution": {
     "iopub.execute_input": "2025-07-07T11:18:03.846539Z",
     "iopub.status.busy": "2025-07-07T11:18:03.846419Z",
     "iopub.status.idle": "2025-07-07T11:18:05.465085Z",
     "shell.execute_reply": "2025-07-07T11:18:05.464779Z"
    }
   },
   "outputs": [],
   "source": [
    "from util import generate_simple_prompts, initialize_df, split_dataset\n",
    "import pandas as pd\n",
    "import random\n",
    "from datasets import Dataset, DatasetDict\n",
    "from transformers import set_seed, AutoTokenizer, AutoModelForCausalLM, AutoConfig, BitsAndBytesConfig, TrainingArguments\n",
    "from peft import AutoPeftModelForCausalLM, LoraConfig, get_peft_model, prepare_model_for_kbit_training\n",
    "from trl import SFTTrainer\n",
    "from pprint import pprint"
   ]
  },
  {
   "cell_type": "code",
   "execution_count": 2,
   "id": "3f67edb3",
   "metadata": {},
   "outputs": [],
   "source": [
    "SEED = 1212\n",
    "\n",
    "TRAIN = 0.85\n",
    "TEST = 0.1\n",
    "VALIDATION = 0.05\n",
    "\n",
    "OUTPUT_DIR = \"\"\n"
   ]
  },
  {
   "cell_type": "code",
   "execution_count": 3,
   "id": "b4fb61ac",
   "metadata": {
    "execution": {
     "iopub.execute_input": "2025-07-07T11:18:05.466461Z",
     "iopub.status.busy": "2025-07-07T11:18:05.466336Z",
     "iopub.status.idle": "2025-07-07T11:18:05.478021Z",
     "shell.execute_reply": "2025-07-07T11:18:05.477766Z"
    }
   },
   "outputs": [],
   "source": [
    "set_seed(SEED)"
   ]
  },
  {
   "cell_type": "code",
   "execution_count": 4,
   "id": "632ffe9c",
   "metadata": {},
   "outputs": [
    {
     "name": "stdout",
     "output_type": "stream",
     "text": [
      "Constructed dataframe found. Reading source...\n",
      "Non-empty dataframe read.\n"
     ]
    }
   ],
   "source": [
    "df = initialize_df()"
   ]
  },
  {
   "cell_type": "code",
   "execution_count": 5,
   "id": "f76f800d",
   "metadata": {},
   "outputs": [],
   "source": [
    "prompts = generate_simple_prompts(df, shots=1, fuzzy=True) + generate_simple_prompts(df, shots=1, fuzzy=True)\n",
    "random.shuffle(prompts)"
   ]
  },
  {
   "cell_type": "code",
   "execution_count": 6,
   "id": "0bd4674d",
   "metadata": {},
   "outputs": [
    {
     "name": "stdout",
     "output_type": "stream",
     "text": [
      "<class 'list'>\n",
      "English: \"Never had a reason to celebrate it,\" Devyn said, shrugging it off as he handed over two twenties to the cashier dressed as an elf.\n",
      "French: Je n'ai jamais eu de raison de le célébrer, déclara Devyn, en tendant deux billets de vingt à la caissière déguisée en elfe.\n",
      "English: \"Yes,\" Devyn said, shrugging it off since he hadn't been left with much of a choice.\n",
      "French: Oui, dit Devyn en balayant le sujet puisqu'il n'avait pas eu trop le choix.\n",
      " \n",
      "\n",
      "English: \"As long as the surge doesn't get too much bigger than they predict, we'll be okay.\n",
      "French: Tant que l'onde de tempête n'est pas plus forte que ce qu'ils prévoient, tout ira bien.\n",
      "English: As long as she didn't want to go onto the beach, he'd be fine.\n",
      "French: Tant qu'elle ne voulait pas aller sur la plage, il s'en sortirait.\n",
      "\n"
     ]
    }
   ],
   "source": [
    "print(type(prompts))\n",
    "print(prompts[0], \"\\n\")\n",
    "print(prompts[-1])"
   ]
  },
  {
   "cell_type": "code",
   "execution_count": 7,
   "id": "a1a76df3",
   "metadata": {},
   "outputs": [
    {
     "name": "stdout",
     "output_type": "stream",
     "text": [
      "{'test': Dataset({\n",
      "    features: ['text'],\n",
      "    num_rows: 2249\n",
      "}),\n",
      " 'train': Dataset({\n",
      "    features: ['text'],\n",
      "    num_rows: 19048\n",
      "}),\n",
      " 'validation': Dataset({\n",
      "    features: ['text'],\n",
      "    num_rows: 1191\n",
      "})}\n"
     ]
    }
   ],
   "source": [
    "prompts = [{\"text\": prompt} for prompt in prompts]\n",
    "dataset = Dataset.from_list(prompts)\n",
    "dataset = split_dataset(dataset, train=TRAIN, test=TEST, validation=VALIDATION)\n",
    "pprint(dataset)"
   ]
  },
  {
   "cell_type": "code",
   "execution_count": 8,
   "id": "c22a23ac",
   "metadata": {},
   "outputs": [
    {
     "name": "stdout",
     "output_type": "stream",
     "text": [
      "{'text': 'English: For those not familiar with these massive stormswhen the '\n",
      "         'eye is over you, the worst is yet to come.\\n'\n",
      "         'French: Pour ceux qui ne sont pas familiers avec ces énormes '\n",
      "         \"tempêtes, lorsque l'œil est au-dessus de vous, le pire est à venir.\\n\"\n",
      "         'English: Worries about the impending storm pushed the memories '\n",
      "         'closer to the surface, and his body felt the toll.\\n'\n",
      "         'French: Les inquiétudes liées à la tempête imminente faisaient '\n",
      "         'remonter les souvenirs à la surface, et son corps en ressentait les '\n",
      "         'effets.\\n'}\n"
     ]
    }
   ],
   "source": [
    "pprint(dataset['train'][4])"
   ]
  },
  {
   "cell_type": "code",
   "execution_count": null,
   "id": "f6533cb9",
   "metadata": {},
   "outputs": [],
   "source": []
  }
 ],
 "metadata": {
  "kernelspec": {
   "display_name": ".venv",
   "language": "python",
   "name": "python3"
  },
  "language_info": {
   "codemirror_mode": {
    "name": "ipython",
    "version": 3
   },
   "file_extension": ".py",
   "mimetype": "text/x-python",
   "name": "python",
   "nbconvert_exporter": "python",
   "pygments_lexer": "ipython3",
   "version": "3.9.6"
  }
 },
 "nbformat": 4,
 "nbformat_minor": 5
}

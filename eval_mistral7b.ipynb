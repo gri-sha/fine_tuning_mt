{
 "cells": [
  {
   "cell_type": "code",
   "execution_count": null,
   "id": "9700ad1c",
   "metadata": {},
   "outputs": [],
   "source": [
    "from comet import download_model, load_from_checkpoint\n",
    "import sacrebleu\n",
    "import pandas as pd"
   ]
  },
  {
   "cell_type": "code",
   "execution_count": null,
   "id": "0b888be3",
   "metadata": {},
   "outputs": [],
   "source": [
    "translations_path = \"translations/mistral7b_translations.csv\"\n",
    "comet_model_path = download_model(\"wmt20-comet-da\")\n"
   ]
  },
  {
   "cell_type": "code",
   "execution_count": null,
   "id": "636e3ccf",
   "metadata": {},
   "outputs": [],
   "source": [
    "df = pd.read_csv(translations_path)\n",
    "sources = df[\"sources\"].tolist()\n",
    "references = df[\"references\"].tolist()\n",
    "translations = df[\"translations\"].tolist()"
   ]
  },
  {
   "cell_type": "code",
   "execution_count": null,
   "id": "3941eef7",
   "metadata": {},
   "outputs": [],
   "source": [
    "# Calculate BLEU\n",
    "bleu = sacrebleu.corpus_bleu(translations, [references])  # for spBLEU: tokenize='flores200'\n",
    "bleu = round(bleu.score, 2)\n",
    "print(\"BLEU:\", bleu)\n",
    "\n",
    "# Calculate chrF++\n",
    "chrf = sacrebleu.corpus_chrf(translations, [references], word_order=2)  # for chrF++ word_order=2\n",
    "chrf = round(chrf.score, 2)\n",
    "print(\"chrF++:\", chrf)\n",
    "\n",
    "# Calculate TER\n",
    "metric = sacrebleu.metrics.TER()\n",
    "ter = metric.corpus_score(translations, [references])\n",
    "ter = round(ter.score, 2)\n",
    "print(\"TER:\", ter)"
   ]
  },
  {
   "cell_type": "code",
   "execution_count": null,
   "id": "7c30394d",
   "metadata": {},
   "outputs": [],
   "source": [
    "# Calculate COMET\n",
    "df = pd.DataFrame({\"src\":sources, \"mt\":translations, \"ref\":references})\n",
    "data = df.to_dict('records')\n",
    "model = load_from_checkpoint(comet_model_path)\n",
    "seg_scores, sys_score = model.predict(data, batch_size=128, gpus=1).values()\n",
    "comet = round(sys_score*100, 2)\n",
    "print(\"COMET:\", comet)"
   ]
  },
  {
   "cell_type": "code",
   "execution_count": null,
   "id": "386ff6b3",
   "metadata": {},
   "outputs": [],
   "source": [
    "df = pd.DataFrame({\"BLEU\": bleu,\n",
    "                   \"chrF++\": chrf,\n",
    "                   \"TER\": ter,\n",
    "                   \"COMET\": comet},\n",
    "                  )\n",
    "\n",
    "df.head()"
   ]
  }
 ],
 "metadata": {
  "kernelspec": {
   "display_name": ".venv",
   "language": "python",
   "name": "python3"
  },
  "language_info": {
   "name": "python",
   "version": "3.9.6"
  }
 },
 "nbformat": 4,
 "nbformat_minor": 5
}

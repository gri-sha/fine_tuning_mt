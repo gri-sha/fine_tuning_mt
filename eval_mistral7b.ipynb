{
 "cells": [
  {
   "cell_type": "code",
   "execution_count": null,
   "id": "9700ad1c",
   "metadata": {},
   "outputs": [],
   "source": [
    "import os\n",
    "import comet\n",
    "import sacrebleu\n",
    "import pandas as pd"
   ]
  },
  {
   "cell_type": "code",
   "execution_count": null,
   "id": "0b888be3",
   "metadata": {},
   "outputs": [],
   "source": [
    "translations_path = \"translations/mistral7b_v1_translations.csv\"\n",
    "evaluation_path = \"evaluations/mistral7b_v1_evaluation.csv\"\n",
    "comet_dir = \"./comet\"\n",
    "comet_model_name = \"wmt20-comet-da\""
   ]
  },
  {
   "cell_type": "code",
   "execution_count": null,
   "id": "636e3ccf",
   "metadata": {},
   "outputs": [],
   "source": [
    "df = pd.read_csv(translations_path)\n",
    "sources = df[\"sources\"].tolist()\n",
    "references = df[\"references\"].tolist()\n",
    "translations = df[\"translations\"].tolist()"
   ]
  },
  {
   "cell_type": "code",
   "execution_count": null,
   "id": "3941eef7",
   "metadata": {},
   "outputs": [],
   "source": [
    "# Calculate BLEU\n",
    "bleu = sacrebleu.corpus_bleu(translations, [references])  # for spBLEU: tokenize='flores200'\n",
    "bleu = round(bleu.score, 2)\n",
    "print(\"BLEU:\", bleu)\n",
    "\n",
    "# Calculate chrF++\n",
    "chrf = sacrebleu.corpus_chrf(translations, [references], word_order=2)  # for chrF++ word_order=2\n",
    "chrf = round(chrf.score, 2)\n",
    "print(\"chrF++:\", chrf)\n",
    "\n",
    "# Calculate TER\n",
    "metric = sacrebleu.metrics.TER()\n",
    "ter = metric.corpus_score(translations, [references])\n",
    "ter = round(ter.score, 2)\n",
    "print(\"TER:\", ter)"
   ]
  },
  {
   "cell_type": "code",
   "execution_count": null,
   "id": "6edbb6c3",
   "metadata": {},
   "outputs": [],
   "source": [
    "# Calculate COMET\n",
    "df = pd.DataFrame({\"src\":sources, \"mt\":translations, \"ref\":references})\n",
    "data = df.to_dict('records')\n",
    "\n",
    "model_path = os.path.join(comet_dir, comet_model_name)\n",
    "if not os.path.exists(model_path):\n",
    "    model_path = comet.download_model(model=comet_model_name, saving_directory=comet_dir)\n",
    "model = comet.load_from_checkpoint(model_path)\n",
    "\n",
    "seg_scores, sys_score = model.predict(data, batch_size=128, gpus=1).values()\n",
    "comet = round(sys_score*100, 2)\n",
    "print(\"COMET:\", comet)"
   ]
  },
  {
   "cell_type": "code",
   "execution_count": null,
   "id": "386ff6b3",
   "metadata": {},
   "outputs": [],
   "source": [
    "folder = os.path.dirname(evaluation_path)\n",
    "os.makedirs(folder, exist_ok=True)\n",
    "\n",
    "df = pd.DataFrame({\"BLEU\": [bleu],\n",
    "                   \"chrF++\": [chrf],\n",
    "                   \"TER\": [ter],\n",
    "                   \"COMET\": [comet]},\n",
    "                  )\n",
    "\n",
    "df.to_csv(evaluation_path, index=False)\n",
    "df.head()"
   ]
  }
 ],
 "metadata": {
  "kernelspec": {
   "display_name": ".venv",
   "language": "python",
   "name": "python3"
  },
  "language_info": {
   "name": "python",
   "version": "3.9.6"
  }
 },
 "nbformat": 4,
 "nbformat_minor": 5
}

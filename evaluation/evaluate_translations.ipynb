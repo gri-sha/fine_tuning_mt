{
 "cells": [
  {
   "cell_type": "code",
   "execution_count": null,
   "id": "3b25b478",
   "metadata": {},
   "outputs": [],
   "source": [
    "# Get the project root directory and add it to the system path\n",
    "import os\n",
    "import sys\n",
    "\n",
    "project_root = os.path.abspath(os.path.join(os.getcwd(), '..', '..'))\n",
    "sys.path.insert(0, project_root)"
   ]
  },
  {
   "cell_type": "code",
   "execution_count": null,
   "id": "9700ad1c",
   "metadata": {},
   "outputs": [],
   "source": [
    "import comet\n",
    "import sacrebleu\n",
    "import pandas as pd"
   ]
  },
  {
   "cell_type": "code",
   "execution_count": null,
   "id": "0b888be3",
   "metadata": {},
   "outputs": [],
   "source": [
    "translations_path = os.path.join(project_root, \"translations/mistral7b_v2_translations.csv\")\n",
    "evaluations_path = \"evaluations.csv\"\n",
    "eval_name = \"mistral7b_v2\"\n",
    "comet_dir = os.path.join(project_root, \"./comet\")\n",
    "comet_model_name = \"wmt20-comet-da\""
   ]
  },
  {
   "cell_type": "code",
   "execution_count": null,
   "id": "636e3ccf",
   "metadata": {},
   "outputs": [],
   "source": [
    "df = pd.read_csv(translations_path)\n",
    "sources = df[\"sources\"].tolist()\n",
    "references = df[\"references\"].tolist()\n",
    "translations = df[\"translations\"].tolist()"
   ]
  },
  {
   "cell_type": "code",
   "execution_count": null,
   "id": "938fea3c",
   "metadata": {},
   "outputs": [],
   "source": [
    "for i in [3, 8 , 98, 66, 165, 876]:\n",
    "    print(sources[i])\n",
    "    print(references[i])\n",
    "    print(translations[i])\n",
    "    print()"
   ]
  },
  {
   "cell_type": "code",
   "execution_count": null,
   "id": "3941eef7",
   "metadata": {},
   "outputs": [],
   "source": [
    "# Calculate BLEU\n",
    "bleu = sacrebleu.corpus_bleu(translations, [references])  # for spBLEU: tokenize='flores200'\n",
    "bleu = round(bleu.score, 2)\n",
    "print(\"BLEU:\", bleu)\n",
    "\n",
    "# Calculate chrF++\n",
    "chrf = sacrebleu.corpus_chrf(translations, [references], word_order=2)  # for chrF++ word_order=2\n",
    "chrf = round(chrf.score, 2)\n",
    "print(\"chrF++:\", chrf)\n",
    "\n",
    "# Calculate TER\n",
    "metric = sacrebleu.metrics.TER()\n",
    "ter = metric.corpus_score(translations, [references])\n",
    "ter = round(ter.score, 2)\n",
    "print(\"TER:\", ter)"
   ]
  },
  {
   "cell_type": "code",
   "execution_count": null,
   "id": "6edbb6c3",
   "metadata": {},
   "outputs": [],
   "source": [
    "# Calculate COMET\n",
    "df = pd.DataFrame({\"src\":sources, \"mt\":translations, \"ref\":references})\n",
    "data = df.to_dict('records')\n",
    "\n",
    "model_path = os.path.join(comet_dir, comet_model_name, \"checkpoints/model.ckpt\")\n",
    "if not os.path.exists(model_path):\n",
    "    model_path = comet.download_model(model=comet_model_name, saving_directory=comet_dir)\n",
    "model = comet.load_from_checkpoint(model_path)\n",
    "\n",
    "seg_scores, sys_score = model.predict(data, batch_size=128, gpus=1).values()\n",
    "comet = round(sys_score*100, 2)\n",
    "print(\"COMET:\", comet)"
   ]
  },
  {
   "cell_type": "code",
   "execution_count": null,
   "id": "386ff6b3",
   "metadata": {},
   "outputs": [],
   "source": [
    "df = pd.read_csv(evaluations_path) if os.path.exists(evaluations_path) else pd.DataFrame()\n",
    "\n",
    "new_row = {\n",
    "    \"model_name\": eval_name,\n",
    "    \"BLEU\": bleu,\n",
    "    \"chrF++\": chrf,\n",
    "    \"TER\": ter,\n",
    "    \"COMET\": comet,\n",
    "}\n",
    "\n",
    "df = pd.concat([df, pd.DataFrame([new_row])], ignore_index=True)\n",
    "\n",
    "\n",
    "df.to_csv(evaluations_path, index=False)\n",
    "df.head()"
   ]
  }
 ],
 "metadata": {
  "kernelspec": {
   "display_name": ".venv",
   "language": "python",
   "name": "python3"
  },
  "language_info": {
   "codemirror_mode": {
    "name": "ipython",
    "version": 3
   },
   "file_extension": ".py",
   "mimetype": "text/x-python",
   "name": "python",
   "nbconvert_exporter": "python",
   "pygments_lexer": "ipython3",
   "version": "3.9.6"
  }
 },
 "nbformat": 4,
 "nbformat_minor": 5
}

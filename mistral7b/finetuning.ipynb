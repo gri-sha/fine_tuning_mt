{
 "cells": [
  {
   "cell_type": "code",
   "execution_count": null,
   "id": "0edd455f",
   "metadata": {},
   "outputs": [],
   "source": [
    "# Get the project root directory and add it to the system path\n",
    "import os\n",
    "import sys\n",
    "\n",
    "project_root = os.path.abspath(os.path.join(os.getcwd(), '..'))\n",
    "sys.path.insert(0, project_root)"
   ]
  },
  {
   "cell_type": "code",
   "execution_count": null,
   "id": "dc941371",
   "metadata": {
    "editable": true,
    "slideshow": {
     "slide_type": ""
    },
    "tags": []
   },
   "outputs": [],
   "source": [
    "import json\n",
    "import torch\n",
    "from util import generate_instruction_prompts, initialize_dfs, validation_split, login_to_hf, _config\n",
    "from datasets import Dataset\n",
    "from transformers import set_seed, AutoTokenizer, AutoModelForCausalLM, BitsAndBytesConfig\n",
    "from peft import LoraConfig, get_peft_model, prepare_model_for_kbit_training\n",
    "from trl import SFTTrainer, SFTConfig\n",
    "from pprint import pprint"
   ]
  },
  {
   "cell_type": "code",
   "execution_count": null,
   "id": "cd4defa5",
   "metadata": {},
   "outputs": [],
   "source": [
    "login_to_hf()"
   ]
  },
  {
   "cell_type": "code",
   "execution_count": null,
   "id": "3f67edb3",
   "metadata": {},
   "outputs": [],
   "source": [
    "# training configurations\n",
    "v1 = {\n",
    "    \"model_name\": \"mistralai/Mistral-7B-v0.1\",\n",
    "    \"output_dir\": \"mistral7b_v1\",\n",
    "    \"epochs\": 1,\n",
    "    \"learning_rate\": 2e-3,\n",
    "    \"batch_size\": 32,\n",
    "    \"max_seq_length\": 512,\n",
    "    \"logging_steps\": 20,\n",
    "    \"completion_only_loss\": False,\n",
    "    \"warmup_steps\": 0,\n",
    "    \"eval_strategy\": \"epoch\",\n",
    "    \"eval_steps\": None\n",
    "}\n",
    "\n",
    "v2 = {\n",
    "    \"model_name\": \"mistralai/Mistral-7B-v0.1\",\n",
    "    \"output_dir\": \"mistral7b_v2\",\n",
    "    \"epochs\": 1,\n",
    "    \"learning_rate\": 1e-4,\n",
    "    \"batch_size\": 32,\n",
    "    \"max_seq_length\": 512,\n",
    "    \"logging_steps\": 20,\n",
    "    \"completion_only_loss\": False,\n",
    "    \"warmup_steps\": 0,\n",
    "    \"eval_strategy\": \"epoch\",\n",
    "    \"eval_steps\": None\n",
    "}\n",
    "\n",
    "v3 = {\n",
    "    \"model_name\": \"mistralai/Mistral-7B-v0.1\",\n",
    "    \"output_dir\": \"mistral7b_v3\",\n",
    "    \"epochs\": 2,\n",
    "    \"learning_rate\": 1e-4,\n",
    "    \"batch_size\": 64,\n",
    "    \"max_seq_length\": 512,\n",
    "    \"logging_steps\": 32,\n",
    "    \"completion_only_loss\": True,\n",
    "    \"warmup_steps\": 0,\n",
    "    \"eval_strategy\": \"steps\",\n",
    "    \"eval_steps\": 64\n",
    "}\n",
    "\n",
    "model_config = v3  # Change this to v1, v2, or v3 as needed"
   ]
  },
  {
   "cell_type": "code",
   "execution_count": null,
   "id": "7c25d799",
   "metadata": {},
   "outputs": [],
   "source": [
    "seed = 1212\n",
    "\n",
    "# dataset splits\n",
    "test_split = 0.1  # 10% of the all\n",
    "valid_split = 0.05  # 5% of the training set\n",
    "\n",
    "# directories\n",
    "output_dir = os.path.join(project_root, model_config['output_dir'])\n",
    "cache_dir = os.path.expanduser(\"~/.cache/huggingface/\")\n",
    "logs_path = os.path.join(output_dir, \"logs.json\")"
   ]
  },
  {
   "cell_type": "code",
   "execution_count": null,
   "id": "ecedba69",
   "metadata": {},
   "outputs": [],
   "source": [
    "print(\"Dataframe configuration :\")\n",
    "pprint(_config)"
   ]
  },
  {
   "cell_type": "code",
   "execution_count": null,
   "id": "b4fb61ac",
   "metadata": {},
   "outputs": [],
   "source": [
    "set_seed(seed)"
   ]
  },
  {
   "cell_type": "code",
   "execution_count": null,
   "id": "632ffe9c",
   "metadata": {},
   "outputs": [],
   "source": [
    "df_train, _ = initialize_dfs(test=test_split)"
   ]
  },
  {
   "cell_type": "code",
   "execution_count": null,
   "id": "0bd4674d",
   "metadata": {},
   "outputs": [],
   "source": [
    "_, p0, c0 = generate_instruction_prompts(df_train, shots=0)\n",
    "_, p1, c1 = generate_instruction_prompts(df_train, shots=1, fuzzy=True)\n",
    "\n",
    "prompts = p0 + p1\n",
    "completions = c0 + c1\n",
    "\n",
    "dataset = Dataset.from_dict({\"prompt\": prompts, \"completion\": completions})\n",
    "dataset = validation_split(dataset, validation=valid_split)\n",
    "pprint(dataset)"
   ]
  },
  {
   "cell_type": "code",
   "execution_count": null,
   "id": "908e8c53",
   "metadata": {},
   "outputs": [],
   "source": [
    "nf4_config = BitsAndBytesConfig(\n",
    "    load_in_4bit=True,\n",
    "    bnb_4bit_quant_type=\"nf4\",\n",
    "    bnb_4bit_use_double_quant=True,\n",
    "    bnb_4bit_compute_dtype=torch.bfloat16,\n",
    ")"
   ]
  },
  {
   "cell_type": "code",
   "execution_count": null,
   "id": "f6533cb9",
   "metadata": {},
   "outputs": [],
   "source": [
    "# if there is an error, that directories related to cuda are not found, the easiest solution is to reinstall bitsandbytes\n",
    "\n",
    "model = AutoModelForCausalLM.from_pretrained(\n",
    "    model_config['model_name'],\n",
    "    device_map=\"auto\",\n",
    "    quantization_config=nf4_config,\n",
    "    use_cache=False,\n",
    "    cache_dir=cache_dir,\n",
    "    # attn_implementation='flash_attention_2'  # not compatible with current versions of torch and cuda\n",
    ")"
   ]
  },
  {
   "cell_type": "code",
   "execution_count": null,
   "id": "99929615",
   "metadata": {},
   "outputs": [],
   "source": [
    "tokenizer = AutoTokenizer.from_pretrained(\n",
    "    model_config[\"model_name\"],\n",
    "    cache_dir=cache_dir,\n",
    "    add_bos_token=True,\n",
    "    add_eos_token=False,\n",
    ")\n",
    "\n",
    "tokenizer.pad_token = tokenizer.eos_token\n",
    "tokenizer.padding_side = \"right\""
   ]
  },
  {
   "cell_type": "code",
   "execution_count": null,
   "id": "a97bc365",
   "metadata": {},
   "outputs": [],
   "source": [
    "peft_config = LoraConfig(\n",
    "    lora_alpha=16, lora_dropout=0.1, r=64, bias=\"none\", task_type=\"CAUSAL_LM\"\n",
    ")\n",
    "\n",
    "model = prepare_model_for_kbit_training(model)\n",
    "model = get_peft_model(model, peft_config)"
   ]
  },
  {
   "cell_type": "code",
   "execution_count": null,
   "id": "b63ace70",
   "metadata": {},
   "outputs": [],
   "source": [
    "assert torch.cuda.is_available(), \"CUDA is not available\"\n",
    "print(\"CUDA device:\", torch.cuda.get_device_name(0))\n",
    "print(\"Model device:\", next(model.parameters()).device)"
   ]
  },
  {
   "cell_type": "code",
   "execution_count": null,
   "id": "b1686156",
   "metadata": {},
   "outputs": [],
   "source": [
    "sft_config = SFTConfig(\n",
    "    output_dir=output_dir,\n",
    "    num_train_epochs=model_config[\"epochs\"],\n",
    "    per_device_train_batch_size=model_config[\"batch_size\"],\n",
    "    per_device_eval_batch_size=model_config[\"batch_size\"],\n",
    "    warmup_steps=model_config[\"warmup_steps\"],\n",
    "    logging_steps=model_config[\"logging_steps\"],\n",
    "    do_train=True,\n",
    "    save_strategy=\"epoch\",\n",
    "    do_eval=True,\n",
    "    eval_strategy=model_config[\"eval_strategy\"],\n",
    "    eval_steps=model_config[\"eval_steps\"],\n",
    "    learning_rate=model_config[\"learning_rate\"],\n",
    "    bf16=True,\n",
    "    lr_scheduler_type=\"constant\",\n",
    "    max_seq_length=model_config[\"max_seq_length\"],\n",
    "    packing=True,\n",
    "    completion_only_loss=model_config[\"completion_only_loss\"],\n",
    ")"
   ]
  },
  {
   "cell_type": "code",
   "execution_count": null,
   "id": "01e76449",
   "metadata": {},
   "outputs": [],
   "source": [
    "trainer = SFTTrainer(\n",
    "    model=model,\n",
    "    peft_config=peft_config,\n",
    "    processing_class=tokenizer,\n",
    "    args=sft_config,\n",
    "    train_dataset=dataset[\"train\"],\n",
    "    eval_dataset=dataset[\"validation\"],\n",
    ")"
   ]
  },
  {
   "cell_type": "code",
   "execution_count": null,
   "id": "0cdabb95",
   "metadata": {},
   "outputs": [],
   "source": [
    "tokenizer.decode(trainer.train_dataset[\"input_ids\"][0])"
   ]
  },
  {
   "cell_type": "code",
   "execution_count": null,
   "id": "d8405be3",
   "metadata": {},
   "outputs": [],
   "source": [
    "trainer.train()"
   ]
  },
  {
   "cell_type": "code",
   "execution_count": null,
   "id": "e138e63e",
   "metadata": {},
   "outputs": [],
   "source": [
    "logs = trainer.state.log_history\n",
    "with open(logs_path, \"w\") as log:\n",
    "    log.write(json.dumps(logs, indent=2))"
   ]
  }
 ],
 "metadata": {
  "kernelspec": {
   "display_name": ".venv",
   "language": "python",
   "name": "python3"
  },
  "language_info": {
   "codemirror_mode": {
    "name": "ipython",
    "version": 3
   },
   "file_extension": ".py",
   "mimetype": "text/x-python",
   "name": "python",
   "nbconvert_exporter": "python",
   "pygments_lexer": "ipython3",
   "version": "3.9.6"
  }
 },
 "nbformat": 4,
 "nbformat_minor": 5
}

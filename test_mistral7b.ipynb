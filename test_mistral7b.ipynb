{
 "cells": [
  {
   "cell_type": "code",
   "execution_count": null,
   "id": "d64bfa9a",
   "metadata": {},
   "outputs": [],
   "source": [
    "import os\n",
    "import random\n",
    "from util import generate_eval_prompts, initialize_dfs\n",
    "from peft import PeftModel, PeftConfig\n",
    "from transformers import set_seed, AutoModelForCausalLM, AutoTokenizer\n",
    "from datasets import Dataset\n",
    "from pprint import pprint"
   ]
  },
  {
   "cell_type": "code",
   "execution_count": null,
   "id": "fe4e1ae5",
   "metadata": {},
   "outputs": [],
   "source": [
    "seed = 1212\n",
    "\n",
    "# dataset splits\n",
    "test_split = 0.1  # 10% of the all\n",
    "valid_split = 0.05  # 5% of the training set\n",
    "\n",
    "model_name = \"mistralai/Mistral-7B-v0.1\"\n",
    "model_checkpoint = os.path.expanduser(\"~/finetuning_mistral7b_v1/checkpoint-89\")\n",
    "cache_dir = os.path.expanduser(\"~/.cache/huggingface/\")"
   ]
  },
  {
   "cell_type": "code",
   "execution_count": null,
   "id": "d9a649fb-e756-465d-a57b-c72c82f85250",
   "metadata": {},
   "outputs": [],
   "source": [
    "set_seed(seed)"
   ]
  },
  {
   "cell_type": "code",
   "execution_count": null,
   "id": "1fcff30e-73c9-46fd-a15a-e7eb1dd8540c",
   "metadata": {},
   "outputs": [],
   "source": [
    "_, df_test = initialize_dfs(test=test_split)\n",
    "s0, r0, p0 = generate_eval_prompts(df_test, shots=0)\n",
    "s1, r1, p1 = generate_eval_prompts(df_test, shots=1, fuzzy=True)\n",
    "sources = s0 + s1\n",
    "references = r0 + r1\n",
    "prompts = p0 + p1\n",
    "dataset = Dataset.from_dict({\"sources\": sources, \"references\": references, \"prompts\": prompts})\n",
    "pprint(dataset)"
   ]
  },
  {
   "cell_type": "code",
   "execution_count": null,
   "id": "5e44d769",
   "metadata": {},
   "outputs": [],
   "source": [
    "peftconfig = PeftConfig.from_pretrained(model_checkpoint)\n",
    "\n",
    "model_base = AutoModelForCausalLM.from_pretrained(\n",
    "    peftconfig.base_model_name_or_path, device_map=\"auto\", cache_dir=cache_dir\n",
    ")\n",
    "\n",
    "tokenizer = AutoTokenizer.from_pretrained(\n",
    "    model_name,\n",
    "    cache_dir=cache_dir,\n",
    "    add_bos_token=True,\n",
    "    add_eos_token=False,  # always False for inference\n",
    ")\n",
    "\n",
    "new_model = PeftModel.from_pretrained(model_base, model_checkpoint)\n",
    "print(\"Peft model loaded\")"
   ]
  },
  {
   "cell_type": "code",
   "execution_count": null,
   "id": "8086a573",
   "metadata": {},
   "outputs": [],
   "source": [
    "def generate_response(prompt, model):\n",
    "  encoded_input = tokenizer(prompt, return_tensors=\"pt\", add_special_tokens=True)\n",
    "  model_inputs = encoded_input.to('cuda')\n",
    "\n",
    "  generated_ids = model.generate(**model_inputs,\n",
    "                                 max_new_tokens=20,\n",
    "                                 min_new_tokens=1,\n",
    "                                 do_sample=False,\n",
    "                                 pad_token_id=tokenizer.eos_token_id)\n",
    "\n",
    "  decoded_output = tokenizer.batch_decode(generated_ids)\n",
    "  return decoded_output[0].replace(prompt, \"\")"
   ]
  },
  {
   "cell_type": "code",
   "execution_count": null,
   "id": "ed8babf8",
   "metadata": {},
   "outputs": [],
   "source": [
    "pprint(dataset[\"prompts\"][35])"
   ]
  },
  {
   "cell_type": "code",
   "execution_count": null,
   "id": "55a63615",
   "metadata": {},
   "outputs": [],
   "source": [
    "response = generate_response(dataset[\"prompts\"][35], new_model)\n",
    "print(f\"Reference: {dataset['references'][35]}\")\n",
    "print(f\"Response: {response}\")"
   ]
  }
 ],
 "metadata": {
  "kernelspec": {
   "display_name": ".venv",
   "language": "python",
   "name": "python3"
  },
  "language_info": {
   "codemirror_mode": {
    "name": "ipython",
    "version": 3
   },
   "file_extension": ".py",
   "mimetype": "text/x-python",
   "name": "python",
   "nbconvert_exporter": "python",
   "pygments_lexer": "ipython3",
   "version": "3.9.6"
  }
 },
 "nbformat": 4,
 "nbformat_minor": 5
}
